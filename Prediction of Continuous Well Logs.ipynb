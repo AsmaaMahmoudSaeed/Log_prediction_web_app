{
 "cells": [
  {
   "cell_type": "markdown",
   "id": "e3dcafed",
   "metadata": {},
   "source": [
    "# Random Forest for Predicting Continuous Well Measurements"
   ]
  },
  {
   "cell_type": "markdown",
   "id": "33025840",
   "metadata": {},
   "source": [
    "## Importing Libraries and Loading Data"
   ]
  },
  {
   "cell_type": "code",
   "execution_count": 1,
   "id": "ae026306-2c48-4da6-bb85-e275cec66a6e",
   "metadata": {},
   "outputs": [],
   "source": [
    "import joblib\n"
   ]
  },
  {
   "cell_type": "code",
   "execution_count": 2,
   "id": "731ac85c",
   "metadata": {},
   "outputs": [],
   "source": [
    "import pandas as pd\n"
   ]
  },
  {
   "cell_type": "code",
   "execution_count": 3,
   "id": "c2fb85af",
   "metadata": {},
   "outputs": [],
   "source": [
    "df = pd.read_csv('volve_wells.csv', usecols=['WELL', 'DEPTH', 'RHOB', 'GR', 'NPHI', 'PEF', 'DT'])"
   ]
  },
  {
   "cell_type": "markdown",
   "id": "1c86690f",
   "metadata": {},
   "source": [
    "## Create Training, Testing and Validation Datasets"
   ]
  },
  {
   "cell_type": "markdown",
   "id": "01aade55",
   "metadata": {},
   "source": [
    "Our dataset should have 4 wells within it. We can confirm this by calling upon the `unique()` function"
   ]
  },
  {
   "cell_type": "code",
   "execution_count": 4,
   "id": "7c6c58be",
   "metadata": {},
   "outputs": [
    {
     "data": {
      "text/plain": [
       "array(['15/9-F-11 B', '15/9-F-11 A', '15/9-F-1 B', '15/9-F-1 A'],\n",
       "      dtype=object)"
      ]
     },
     "execution_count": 4,
     "metadata": {},
     "output_type": "execute_result"
    }
   ],
   "source": [
    "df['WELL'].unique()"
   ]
  },
  {
   "cell_type": "markdown",
   "id": "0607c9d1",
   "metadata": {},
   "source": [
    "As we are using measurements taken from multiple wells, one way to split our data into training and testing is to set aside a single well (blind test well) which will be used to see how our model performs on unseen data."
   ]
  },
  {
   "cell_type": "code",
   "execution_count": 5,
   "id": "c7114040",
   "metadata": {},
   "outputs": [],
   "source": [
    "# Training Wells\n",
    "training_wells = ['15/9-F-11 B', '15/9-F-11 A', '15/9-F-1 A']\n",
    "\n",
    "# Test Well\n",
    "test_well = ['15/9-F-1 B']"
   ]
  },
  {
   "cell_type": "markdown",
   "id": "dfd658cc",
   "metadata": {},
   "source": [
    "\"Extract\" the data from the main dataframe using the well lists above"
   ]
  },
  {
   "cell_type": "code",
   "execution_count": 6,
   "id": "6320823a",
   "metadata": {},
   "outputs": [],
   "source": [
    "train_val_df = df[df['WELL'].isin(training_wells)].copy()\n",
    "test_df = df[df['WELL'].isin(test_well)].copy()"
   ]
  },
  {
   "cell_type": "code",
   "execution_count": 7,
   "id": "37d705af",
   "metadata": {},
   "outputs": [
    {
     "data": {
      "text/html": [
       "<div>\n",
       "<style scoped>\n",
       "    .dataframe tbody tr th:only-of-type {\n",
       "        vertical-align: middle;\n",
       "    }\n",
       "\n",
       "    .dataframe tbody tr th {\n",
       "        vertical-align: top;\n",
       "    }\n",
       "\n",
       "    .dataframe thead th {\n",
       "        text-align: right;\n",
       "    }\n",
       "</style>\n",
       "<table border=\"1\" class=\"dataframe\">\n",
       "  <thead>\n",
       "    <tr style=\"text-align: right;\">\n",
       "      <th></th>\n",
       "      <th>DEPTH</th>\n",
       "      <th>DT</th>\n",
       "      <th>GR</th>\n",
       "      <th>NPHI</th>\n",
       "      <th>PEF</th>\n",
       "      <th>RHOB</th>\n",
       "    </tr>\n",
       "  </thead>\n",
       "  <tbody>\n",
       "    <tr>\n",
       "      <th>count</th>\n",
       "      <td>116914.000000</td>\n",
       "      <td>21699.000000</td>\n",
       "      <td>115933.000000</td>\n",
       "      <td>37587.000000</td>\n",
       "      <td>37668.000000</td>\n",
       "      <td>37668.000000</td>\n",
       "    </tr>\n",
       "    <tr>\n",
       "      <th>mean</th>\n",
       "      <td>2154.233438</td>\n",
       "      <td>77.252247</td>\n",
       "      <td>51.823119</td>\n",
       "      <td>0.174302</td>\n",
       "      <td>6.450603</td>\n",
       "      <td>2.443072</td>\n",
       "    </tr>\n",
       "    <tr>\n",
       "      <th>std</th>\n",
       "      <td>1180.976133</td>\n",
       "      <td>14.350893</td>\n",
       "      <td>37.606884</td>\n",
       "      <td>0.085660</td>\n",
       "      <td>1.478121</td>\n",
       "      <td>0.166466</td>\n",
       "    </tr>\n",
       "    <tr>\n",
       "      <th>min</th>\n",
       "      <td>145.900000</td>\n",
       "      <td>53.165000</td>\n",
       "      <td>0.149100</td>\n",
       "      <td>0.010000</td>\n",
       "      <td>3.647000</td>\n",
       "      <td>1.627000</td>\n",
       "    </tr>\n",
       "    <tr>\n",
       "      <th>25%</th>\n",
       "      <td>1148.525000</td>\n",
       "      <td>66.854450</td>\n",
       "      <td>22.126100</td>\n",
       "      <td>0.115000</td>\n",
       "      <td>5.078850</td>\n",
       "      <td>2.276000</td>\n",
       "    </tr>\n",
       "    <tr>\n",
       "      <th>50%</th>\n",
       "      <td>2122.800000</td>\n",
       "      <td>72.724000</td>\n",
       "      <td>52.217000</td>\n",
       "      <td>0.163000</td>\n",
       "      <td>6.548700</td>\n",
       "      <td>2.501000</td>\n",
       "    </tr>\n",
       "    <tr>\n",
       "      <th>75%</th>\n",
       "      <td>3097.100000</td>\n",
       "      <td>86.132300</td>\n",
       "      <td>74.201000</td>\n",
       "      <td>0.212100</td>\n",
       "      <td>7.728625</td>\n",
       "      <td>2.577000</td>\n",
       "    </tr>\n",
       "    <tr>\n",
       "      <th>max</th>\n",
       "      <td>4770.200000</td>\n",
       "      <td>126.827000</td>\n",
       "      <td>1124.403000</td>\n",
       "      <td>0.593200</td>\n",
       "      <td>13.841000</td>\n",
       "      <td>3.090000</td>\n",
       "    </tr>\n",
       "  </tbody>\n",
       "</table>\n",
       "</div>"
      ],
      "text/plain": [
       "               DEPTH            DT             GR          NPHI           PEF  \\\n",
       "count  116914.000000  21699.000000  115933.000000  37587.000000  37668.000000   \n",
       "mean     2154.233438     77.252247      51.823119      0.174302      6.450603   \n",
       "std      1180.976133     14.350893      37.606884      0.085660      1.478121   \n",
       "min       145.900000     53.165000       0.149100      0.010000      3.647000   \n",
       "25%      1148.525000     66.854450      22.126100      0.115000      5.078850   \n",
       "50%      2122.800000     72.724000      52.217000      0.163000      6.548700   \n",
       "75%      3097.100000     86.132300      74.201000      0.212100      7.728625   \n",
       "max      4770.200000    126.827000    1124.403000      0.593200     13.841000   \n",
       "\n",
       "               RHOB  \n",
       "count  37668.000000  \n",
       "mean       2.443072  \n",
       "std        0.166466  \n",
       "min        1.627000  \n",
       "25%        2.276000  \n",
       "50%        2.501000  \n",
       "75%        2.577000  \n",
       "max        3.090000  "
      ]
     },
     "execution_count": 7,
     "metadata": {},
     "output_type": "execute_result"
    }
   ],
   "source": [
    "train_val_df.describe()"
   ]
  },
  {
   "cell_type": "code",
   "execution_count": 8,
   "id": "fc094c52",
   "metadata": {},
   "outputs": [
    {
     "data": {
      "text/html": [
       "<div>\n",
       "<style scoped>\n",
       "    .dataframe tbody tr th:only-of-type {\n",
       "        vertical-align: middle;\n",
       "    }\n",
       "\n",
       "    .dataframe tbody tr th {\n",
       "        vertical-align: top;\n",
       "    }\n",
       "\n",
       "    .dataframe thead th {\n",
       "        text-align: right;\n",
       "    }\n",
       "</style>\n",
       "<table border=\"1\" class=\"dataframe\">\n",
       "  <thead>\n",
       "    <tr style=\"text-align: right;\">\n",
       "      <th></th>\n",
       "      <th>DEPTH</th>\n",
       "      <th>DT</th>\n",
       "      <th>GR</th>\n",
       "      <th>NPHI</th>\n",
       "      <th>PEF</th>\n",
       "      <th>RHOB</th>\n",
       "      <th>WELL</th>\n",
       "    </tr>\n",
       "  </thead>\n",
       "  <tbody>\n",
       "    <tr>\n",
       "      <th>81553</th>\n",
       "      <td>145.9</td>\n",
       "      <td>NaN</td>\n",
       "      <td>NaN</td>\n",
       "      <td>NaN</td>\n",
       "      <td>NaN</td>\n",
       "      <td>NaN</td>\n",
       "      <td>15/9-F-1 B</td>\n",
       "    </tr>\n",
       "    <tr>\n",
       "      <th>81554</th>\n",
       "      <td>146.0</td>\n",
       "      <td>NaN</td>\n",
       "      <td>NaN</td>\n",
       "      <td>NaN</td>\n",
       "      <td>NaN</td>\n",
       "      <td>NaN</td>\n",
       "      <td>15/9-F-1 B</td>\n",
       "    </tr>\n",
       "    <tr>\n",
       "      <th>81555</th>\n",
       "      <td>146.1</td>\n",
       "      <td>NaN</td>\n",
       "      <td>NaN</td>\n",
       "      <td>NaN</td>\n",
       "      <td>NaN</td>\n",
       "      <td>NaN</td>\n",
       "      <td>15/9-F-1 B</td>\n",
       "    </tr>\n",
       "    <tr>\n",
       "      <th>81556</th>\n",
       "      <td>146.2</td>\n",
       "      <td>NaN</td>\n",
       "      <td>NaN</td>\n",
       "      <td>NaN</td>\n",
       "      <td>NaN</td>\n",
       "      <td>NaN</td>\n",
       "      <td>15/9-F-1 B</td>\n",
       "    </tr>\n",
       "    <tr>\n",
       "      <th>81557</th>\n",
       "      <td>146.3</td>\n",
       "      <td>NaN</td>\n",
       "      <td>NaN</td>\n",
       "      <td>NaN</td>\n",
       "      <td>NaN</td>\n",
       "      <td>NaN</td>\n",
       "      <td>15/9-F-1 B</td>\n",
       "    </tr>\n",
       "    <tr>\n",
       "      <th>...</th>\n",
       "      <td>...</td>\n",
       "      <td>...</td>\n",
       "      <td>...</td>\n",
       "      <td>...</td>\n",
       "      <td>...</td>\n",
       "      <td>...</td>\n",
       "      <td>...</td>\n",
       "    </tr>\n",
       "    <tr>\n",
       "      <th>114739</th>\n",
       "      <td>3464.5</td>\n",
       "      <td>NaN</td>\n",
       "      <td>NaN</td>\n",
       "      <td>NaN</td>\n",
       "      <td>NaN</td>\n",
       "      <td>NaN</td>\n",
       "      <td>15/9-F-1 B</td>\n",
       "    </tr>\n",
       "    <tr>\n",
       "      <th>114740</th>\n",
       "      <td>3464.6</td>\n",
       "      <td>NaN</td>\n",
       "      <td>NaN</td>\n",
       "      <td>NaN</td>\n",
       "      <td>NaN</td>\n",
       "      <td>NaN</td>\n",
       "      <td>15/9-F-1 B</td>\n",
       "    </tr>\n",
       "    <tr>\n",
       "      <th>114741</th>\n",
       "      <td>3464.7</td>\n",
       "      <td>NaN</td>\n",
       "      <td>NaN</td>\n",
       "      <td>NaN</td>\n",
       "      <td>NaN</td>\n",
       "      <td>NaN</td>\n",
       "      <td>15/9-F-1 B</td>\n",
       "    </tr>\n",
       "    <tr>\n",
       "      <th>114742</th>\n",
       "      <td>3464.8</td>\n",
       "      <td>NaN</td>\n",
       "      <td>NaN</td>\n",
       "      <td>NaN</td>\n",
       "      <td>NaN</td>\n",
       "      <td>NaN</td>\n",
       "      <td>15/9-F-1 B</td>\n",
       "    </tr>\n",
       "    <tr>\n",
       "      <th>114743</th>\n",
       "      <td>3464.9</td>\n",
       "      <td>NaN</td>\n",
       "      <td>NaN</td>\n",
       "      <td>NaN</td>\n",
       "      <td>NaN</td>\n",
       "      <td>NaN</td>\n",
       "      <td>15/9-F-1 B</td>\n",
       "    </tr>\n",
       "  </tbody>\n",
       "</table>\n",
       "<p>33191 rows × 7 columns</p>\n",
       "</div>"
      ],
      "text/plain": [
       "         DEPTH  DT  GR  NPHI  PEF  RHOB        WELL\n",
       "81553    145.9 NaN NaN   NaN  NaN   NaN  15/9-F-1 B\n",
       "81554    146.0 NaN NaN   NaN  NaN   NaN  15/9-F-1 B\n",
       "81555    146.1 NaN NaN   NaN  NaN   NaN  15/9-F-1 B\n",
       "81556    146.2 NaN NaN   NaN  NaN   NaN  15/9-F-1 B\n",
       "81557    146.3 NaN NaN   NaN  NaN   NaN  15/9-F-1 B\n",
       "...        ...  ..  ..   ...  ...   ...         ...\n",
       "114739  3464.5 NaN NaN   NaN  NaN   NaN  15/9-F-1 B\n",
       "114740  3464.6 NaN NaN   NaN  NaN   NaN  15/9-F-1 B\n",
       "114741  3464.7 NaN NaN   NaN  NaN   NaN  15/9-F-1 B\n",
       "114742  3464.8 NaN NaN   NaN  NaN   NaN  15/9-F-1 B\n",
       "114743  3464.9 NaN NaN   NaN  NaN   NaN  15/9-F-1 B\n",
       "\n",
       "[33191 rows x 7 columns]"
      ]
     },
     "execution_count": 8,
     "metadata": {},
     "output_type": "execute_result"
    }
   ],
   "source": [
    "test_df"
   ]
  },
  {
   "cell_type": "markdown",
   "id": "df9ab50f",
   "metadata": {},
   "source": [
    "### Remove NaN Values From Dataframe\n",
    "Removing missing values from the dataframe is one way to deal with them, however, doing so reduces the amount of training data you have available. Other methods can be used to infill the NaNs with sensible values."
   ]
  },
  {
   "cell_type": "code",
   "execution_count": 9,
   "id": "130e4d89-5f48-43ce-b58c-05e71d7fbfb5",
   "metadata": {},
   "outputs": [
    {
     "data": {
      "text/plain": [
       "DEPTH        0\n",
       "DT       95215\n",
       "GR         981\n",
       "NPHI     79327\n",
       "PEF      79246\n",
       "RHOB     79246\n",
       "WELL         0\n",
       "dtype: int64"
      ]
     },
     "execution_count": 9,
     "metadata": {},
     "output_type": "execute_result"
    }
   ],
   "source": [
    "train_val_df.isna().sum()"
   ]
  },
  {
   "cell_type": "code",
   "execution_count": 10,
   "id": "98acfa6e-c4d5-4e30-95fa-9dd6ce804488",
   "metadata": {},
   "outputs": [],
   "source": [
    "train_val_df=train_val_df.dropna()\n",
    "test_df=test_df.dropna()"
   ]
  },
  {
   "cell_type": "code",
   "execution_count": 11,
   "id": "d3a9d82c",
   "metadata": {},
   "outputs": [
    {
     "name": "stderr",
     "output_type": "stream",
     "text": [
      "C:\\Users\\musta\\AppData\\Local\\Temp\\ipykernel_26456\\1428475957.py:2: SettingWithCopyWarning: \n",
      "A value is trying to be set on a copy of a slice from a DataFrame\n",
      "\n",
      "See the caveats in the documentation: https://pandas.pydata.org/pandas-docs/stable/user_guide/indexing.html#returning-a-view-versus-a-copy\n",
      "  test_df.dropna(inplace=True)\n"
     ]
    },
    {
     "data": {
      "text/html": [
       "<div>\n",
       "<style scoped>\n",
       "    .dataframe tbody tr th:only-of-type {\n",
       "        vertical-align: middle;\n",
       "    }\n",
       "\n",
       "    .dataframe tbody tr th {\n",
       "        vertical-align: top;\n",
       "    }\n",
       "\n",
       "    .dataframe thead th {\n",
       "        text-align: right;\n",
       "    }\n",
       "</style>\n",
       "<table border=\"1\" class=\"dataframe\">\n",
       "  <thead>\n",
       "    <tr style=\"text-align: right;\">\n",
       "      <th></th>\n",
       "      <th>DEPTH</th>\n",
       "      <th>DT</th>\n",
       "      <th>GR</th>\n",
       "      <th>NPHI</th>\n",
       "      <th>PEF</th>\n",
       "      <th>RHOB</th>\n",
       "    </tr>\n",
       "  </thead>\n",
       "  <tbody>\n",
       "    <tr>\n",
       "      <th>count</th>\n",
       "      <td>21688.000000</td>\n",
       "      <td>21688.000000</td>\n",
       "      <td>21688.000000</td>\n",
       "      <td>21688.000000</td>\n",
       "      <td>21688.000000</td>\n",
       "      <td>21688.000000</td>\n",
       "    </tr>\n",
       "    <tr>\n",
       "      <th>mean</th>\n",
       "      <td>3141.098875</td>\n",
       "      <td>77.235857</td>\n",
       "      <td>39.803246</td>\n",
       "      <td>0.166648</td>\n",
       "      <td>7.093603</td>\n",
       "      <td>2.475232</td>\n",
       "    </tr>\n",
       "    <tr>\n",
       "      <th>std</th>\n",
       "      <td>314.723749</td>\n",
       "      <td>14.336048</td>\n",
       "      <td>57.907158</td>\n",
       "      <td>0.099200</td>\n",
       "      <td>1.188313</td>\n",
       "      <td>0.147635</td>\n",
       "    </tr>\n",
       "    <tr>\n",
       "      <th>min</th>\n",
       "      <td>2577.000000</td>\n",
       "      <td>53.165000</td>\n",
       "      <td>0.852000</td>\n",
       "      <td>0.010000</td>\n",
       "      <td>4.297800</td>\n",
       "      <td>1.980600</td>\n",
       "    </tr>\n",
       "    <tr>\n",
       "      <th>25%</th>\n",
       "      <td>2869.475000</td>\n",
       "      <td>66.849300</td>\n",
       "      <td>9.416350</td>\n",
       "      <td>0.096000</td>\n",
       "      <td>6.218475</td>\n",
       "      <td>2.379000</td>\n",
       "    </tr>\n",
       "    <tr>\n",
       "      <th>50%</th>\n",
       "      <td>3140.550000</td>\n",
       "      <td>72.720750</td>\n",
       "      <td>27.552000</td>\n",
       "      <td>0.136000</td>\n",
       "      <td>7.487700</td>\n",
       "      <td>2.533000</td>\n",
       "    </tr>\n",
       "    <tr>\n",
       "      <th>75%</th>\n",
       "      <td>3411.625000</td>\n",
       "      <td>86.093800</td>\n",
       "      <td>44.877425</td>\n",
       "      <td>0.217200</td>\n",
       "      <td>8.001000</td>\n",
       "      <td>2.581400</td>\n",
       "    </tr>\n",
       "    <tr>\n",
       "      <th>max</th>\n",
       "      <td>3723.300000</td>\n",
       "      <td>126.827000</td>\n",
       "      <td>1124.403000</td>\n",
       "      <td>0.593200</td>\n",
       "      <td>13.841000</td>\n",
       "      <td>3.025000</td>\n",
       "    </tr>\n",
       "  </tbody>\n",
       "</table>\n",
       "</div>"
      ],
      "text/plain": [
       "              DEPTH            DT            GR          NPHI           PEF  \\\n",
       "count  21688.000000  21688.000000  21688.000000  21688.000000  21688.000000   \n",
       "mean    3141.098875     77.235857     39.803246      0.166648      7.093603   \n",
       "std      314.723749     14.336048     57.907158      0.099200      1.188313   \n",
       "min     2577.000000     53.165000      0.852000      0.010000      4.297800   \n",
       "25%     2869.475000     66.849300      9.416350      0.096000      6.218475   \n",
       "50%     3140.550000     72.720750     27.552000      0.136000      7.487700   \n",
       "75%     3411.625000     86.093800     44.877425      0.217200      8.001000   \n",
       "max     3723.300000    126.827000   1124.403000      0.593200     13.841000   \n",
       "\n",
       "               RHOB  \n",
       "count  21688.000000  \n",
       "mean       2.475232  \n",
       "std        0.147635  \n",
       "min        1.980600  \n",
       "25%        2.379000  \n",
       "50%        2.533000  \n",
       "75%        2.581400  \n",
       "max        3.025000  "
      ]
     },
     "execution_count": 11,
     "metadata": {},
     "output_type": "execute_result"
    }
   ],
   "source": [
    "train_val_df.dropna(inplace=True)\n",
    "test_df.dropna(inplace=True)\n",
    "train_val_df.describe()"
   ]
  },
  {
   "cell_type": "code",
   "execution_count": 12,
   "id": "db491df9-671a-48c7-bbe4-3bd5700c9417",
   "metadata": {},
   "outputs": [
    {
     "data": {
      "text/plain": [
       "DEPTH    0\n",
       "DT       0\n",
       "GR       0\n",
       "NPHI     0\n",
       "PEF      0\n",
       "RHOB     0\n",
       "WELL     0\n",
       "dtype: int64"
      ]
     },
     "execution_count": 12,
     "metadata": {},
     "output_type": "execute_result"
    }
   ],
   "source": [
    "train_val_df.isna().sum()"
   ]
  },
  {
   "cell_type": "code",
   "execution_count": 13,
   "id": "47fbef3b-5ea1-49a4-996a-538edc6c241d",
   "metadata": {},
   "outputs": [],
   "source": [
    "train_val_df.to_csv(\"notnull.csv\")"
   ]
  },
  {
   "cell_type": "markdown",
   "id": "4e55a73d",
   "metadata": {},
   "source": [
    "## Implementing the Random Forest Model"
   ]
  },
  {
   "cell_type": "code",
   "execution_count": 14,
   "id": "fa08e1cc",
   "metadata": {},
   "outputs": [],
   "source": [
    "from sklearn.model_selection import train_test_split\n",
    "from sklearn import metrics\n",
    "from sklearn.ensemble import RandomForestRegressor"
   ]
  },
  {
   "cell_type": "markdown",
   "id": "b18c90d6",
   "metadata": {},
   "source": [
    "### Selecting Training and Target Features"
   ]
  },
  {
   "cell_type": "code",
   "execution_count": 15,
   "id": "fd8dc2b5",
   "metadata": {},
   "outputs": [],
   "source": [
    "X = train_val_df[['RHOB', 'GR', 'NPHI', 'PEF']]\n",
    "y = train_val_df['DT']"
   ]
  },
  {
   "cell_type": "markdown",
   "id": "51ec1cf5",
   "metadata": {},
   "source": [
    "Note that the name test used here is commonly used within machine learning. In this case the variables X_test and y_test are our validation data. In other words it is used to help tune our model. "
   ]
  },
  {
   "cell_type": "code",
   "execution_count": 16,
   "id": "fb9b92c0",
   "metadata": {},
   "outputs": [],
   "source": [
    "X_train, X_val, y_train, y_val = train_test_split(X, y, test_size=0.2)"
   ]
  },
  {
   "cell_type": "code",
   "execution_count": 17,
   "id": "257118cf-a533-4a36-8422-d4e843f021c1",
   "metadata": {},
   "outputs": [
    {
     "data": {
      "text/plain": [
       "(4338,)"
      ]
     },
     "execution_count": 17,
     "metadata": {},
     "output_type": "execute_result"
    }
   ],
   "source": [
    "y_val.shape"
   ]
  },
  {
   "cell_type": "markdown",
   "id": "76c0fe11",
   "metadata": {},
   "source": [
    "Checking the shapes of X_train and X_test to make sure they have been split correctly."
   ]
  },
  {
   "cell_type": "markdown",
   "id": "6508af88",
   "metadata": {},
   "source": [
    "### Building the Model"
   ]
  },
  {
   "cell_type": "code",
   "execution_count": 18,
   "id": "4d6904f6",
   "metadata": {},
   "outputs": [],
   "source": [
    "regr = RandomForestRegressor()"
   ]
  },
  {
   "cell_type": "code",
   "execution_count": 19,
   "id": "4a37dd73",
   "metadata": {},
   "outputs": [
    {
     "data": {
      "text/html": [
       "<style>#sk-container-id-1 {\n",
       "  /* Definition of color scheme common for light and dark mode */\n",
       "  --sklearn-color-text: #000;\n",
       "  --sklearn-color-text-muted: #666;\n",
       "  --sklearn-color-line: gray;\n",
       "  /* Definition of color scheme for unfitted estimators */\n",
       "  --sklearn-color-unfitted-level-0: #fff5e6;\n",
       "  --sklearn-color-unfitted-level-1: #f6e4d2;\n",
       "  --sklearn-color-unfitted-level-2: #ffe0b3;\n",
       "  --sklearn-color-unfitted-level-3: chocolate;\n",
       "  /* Definition of color scheme for fitted estimators */\n",
       "  --sklearn-color-fitted-level-0: #f0f8ff;\n",
       "  --sklearn-color-fitted-level-1: #d4ebff;\n",
       "  --sklearn-color-fitted-level-2: #b3dbfd;\n",
       "  --sklearn-color-fitted-level-3: cornflowerblue;\n",
       "\n",
       "  /* Specific color for light theme */\n",
       "  --sklearn-color-text-on-default-background: var(--sg-text-color, var(--theme-code-foreground, var(--jp-content-font-color1, black)));\n",
       "  --sklearn-color-background: var(--sg-background-color, var(--theme-background, var(--jp-layout-color0, white)));\n",
       "  --sklearn-color-border-box: var(--sg-text-color, var(--theme-code-foreground, var(--jp-content-font-color1, black)));\n",
       "  --sklearn-color-icon: #696969;\n",
       "\n",
       "  @media (prefers-color-scheme: dark) {\n",
       "    /* Redefinition of color scheme for dark theme */\n",
       "    --sklearn-color-text-on-default-background: var(--sg-text-color, var(--theme-code-foreground, var(--jp-content-font-color1, white)));\n",
       "    --sklearn-color-background: var(--sg-background-color, var(--theme-background, var(--jp-layout-color0, #111)));\n",
       "    --sklearn-color-border-box: var(--sg-text-color, var(--theme-code-foreground, var(--jp-content-font-color1, white)));\n",
       "    --sklearn-color-icon: #878787;\n",
       "  }\n",
       "}\n",
       "\n",
       "#sk-container-id-1 {\n",
       "  color: var(--sklearn-color-text);\n",
       "}\n",
       "\n",
       "#sk-container-id-1 pre {\n",
       "  padding: 0;\n",
       "}\n",
       "\n",
       "#sk-container-id-1 input.sk-hidden--visually {\n",
       "  border: 0;\n",
       "  clip: rect(1px 1px 1px 1px);\n",
       "  clip: rect(1px, 1px, 1px, 1px);\n",
       "  height: 1px;\n",
       "  margin: -1px;\n",
       "  overflow: hidden;\n",
       "  padding: 0;\n",
       "  position: absolute;\n",
       "  width: 1px;\n",
       "}\n",
       "\n",
       "#sk-container-id-1 div.sk-dashed-wrapped {\n",
       "  border: 1px dashed var(--sklearn-color-line);\n",
       "  margin: 0 0.4em 0.5em 0.4em;\n",
       "  box-sizing: border-box;\n",
       "  padding-bottom: 0.4em;\n",
       "  background-color: var(--sklearn-color-background);\n",
       "}\n",
       "\n",
       "#sk-container-id-1 div.sk-container {\n",
       "  /* jupyter's `normalize.less` sets `[hidden] { display: none; }`\n",
       "     but bootstrap.min.css set `[hidden] { display: none !important; }`\n",
       "     so we also need the `!important` here to be able to override the\n",
       "     default hidden behavior on the sphinx rendered scikit-learn.org.\n",
       "     See: https://github.com/scikit-learn/scikit-learn/issues/21755 */\n",
       "  display: inline-block !important;\n",
       "  position: relative;\n",
       "}\n",
       "\n",
       "#sk-container-id-1 div.sk-text-repr-fallback {\n",
       "  display: none;\n",
       "}\n",
       "\n",
       "div.sk-parallel-item,\n",
       "div.sk-serial,\n",
       "div.sk-item {\n",
       "  /* draw centered vertical line to link estimators */\n",
       "  background-image: linear-gradient(var(--sklearn-color-text-on-default-background), var(--sklearn-color-text-on-default-background));\n",
       "  background-size: 2px 100%;\n",
       "  background-repeat: no-repeat;\n",
       "  background-position: center center;\n",
       "}\n",
       "\n",
       "/* Parallel-specific style estimator block */\n",
       "\n",
       "#sk-container-id-1 div.sk-parallel-item::after {\n",
       "  content: \"\";\n",
       "  width: 100%;\n",
       "  border-bottom: 2px solid var(--sklearn-color-text-on-default-background);\n",
       "  flex-grow: 1;\n",
       "}\n",
       "\n",
       "#sk-container-id-1 div.sk-parallel {\n",
       "  display: flex;\n",
       "  align-items: stretch;\n",
       "  justify-content: center;\n",
       "  background-color: var(--sklearn-color-background);\n",
       "  position: relative;\n",
       "}\n",
       "\n",
       "#sk-container-id-1 div.sk-parallel-item {\n",
       "  display: flex;\n",
       "  flex-direction: column;\n",
       "}\n",
       "\n",
       "#sk-container-id-1 div.sk-parallel-item:first-child::after {\n",
       "  align-self: flex-end;\n",
       "  width: 50%;\n",
       "}\n",
       "\n",
       "#sk-container-id-1 div.sk-parallel-item:last-child::after {\n",
       "  align-self: flex-start;\n",
       "  width: 50%;\n",
       "}\n",
       "\n",
       "#sk-container-id-1 div.sk-parallel-item:only-child::after {\n",
       "  width: 0;\n",
       "}\n",
       "\n",
       "/* Serial-specific style estimator block */\n",
       "\n",
       "#sk-container-id-1 div.sk-serial {\n",
       "  display: flex;\n",
       "  flex-direction: column;\n",
       "  align-items: center;\n",
       "  background-color: var(--sklearn-color-background);\n",
       "  padding-right: 1em;\n",
       "  padding-left: 1em;\n",
       "}\n",
       "\n",
       "\n",
       "/* Toggleable style: style used for estimator/Pipeline/ColumnTransformer box that is\n",
       "clickable and can be expanded/collapsed.\n",
       "- Pipeline and ColumnTransformer use this feature and define the default style\n",
       "- Estimators will overwrite some part of the style using the `sk-estimator` class\n",
       "*/\n",
       "\n",
       "/* Pipeline and ColumnTransformer style (default) */\n",
       "\n",
       "#sk-container-id-1 div.sk-toggleable {\n",
       "  /* Default theme specific background. It is overwritten whether we have a\n",
       "  specific estimator or a Pipeline/ColumnTransformer */\n",
       "  background-color: var(--sklearn-color-background);\n",
       "}\n",
       "\n",
       "/* Toggleable label */\n",
       "#sk-container-id-1 label.sk-toggleable__label {\n",
       "  cursor: pointer;\n",
       "  display: flex;\n",
       "  width: 100%;\n",
       "  margin-bottom: 0;\n",
       "  padding: 0.5em;\n",
       "  box-sizing: border-box;\n",
       "  text-align: center;\n",
       "  align-items: start;\n",
       "  justify-content: space-between;\n",
       "  gap: 0.5em;\n",
       "}\n",
       "\n",
       "#sk-container-id-1 label.sk-toggleable__label .caption {\n",
       "  font-size: 0.6rem;\n",
       "  font-weight: lighter;\n",
       "  color: var(--sklearn-color-text-muted);\n",
       "}\n",
       "\n",
       "#sk-container-id-1 label.sk-toggleable__label-arrow:before {\n",
       "  /* Arrow on the left of the label */\n",
       "  content: \"▸\";\n",
       "  float: left;\n",
       "  margin-right: 0.25em;\n",
       "  color: var(--sklearn-color-icon);\n",
       "}\n",
       "\n",
       "#sk-container-id-1 label.sk-toggleable__label-arrow:hover:before {\n",
       "  color: var(--sklearn-color-text);\n",
       "}\n",
       "\n",
       "/* Toggleable content - dropdown */\n",
       "\n",
       "#sk-container-id-1 div.sk-toggleable__content {\n",
       "  max-height: 0;\n",
       "  max-width: 0;\n",
       "  overflow: hidden;\n",
       "  text-align: left;\n",
       "  /* unfitted */\n",
       "  background-color: var(--sklearn-color-unfitted-level-0);\n",
       "}\n",
       "\n",
       "#sk-container-id-1 div.sk-toggleable__content.fitted {\n",
       "  /* fitted */\n",
       "  background-color: var(--sklearn-color-fitted-level-0);\n",
       "}\n",
       "\n",
       "#sk-container-id-1 div.sk-toggleable__content pre {\n",
       "  margin: 0.2em;\n",
       "  border-radius: 0.25em;\n",
       "  color: var(--sklearn-color-text);\n",
       "  /* unfitted */\n",
       "  background-color: var(--sklearn-color-unfitted-level-0);\n",
       "}\n",
       "\n",
       "#sk-container-id-1 div.sk-toggleable__content.fitted pre {\n",
       "  /* unfitted */\n",
       "  background-color: var(--sklearn-color-fitted-level-0);\n",
       "}\n",
       "\n",
       "#sk-container-id-1 input.sk-toggleable__control:checked~div.sk-toggleable__content {\n",
       "  /* Expand drop-down */\n",
       "  max-height: 200px;\n",
       "  max-width: 100%;\n",
       "  overflow: auto;\n",
       "}\n",
       "\n",
       "#sk-container-id-1 input.sk-toggleable__control:checked~label.sk-toggleable__label-arrow:before {\n",
       "  content: \"▾\";\n",
       "}\n",
       "\n",
       "/* Pipeline/ColumnTransformer-specific style */\n",
       "\n",
       "#sk-container-id-1 div.sk-label input.sk-toggleable__control:checked~label.sk-toggleable__label {\n",
       "  color: var(--sklearn-color-text);\n",
       "  background-color: var(--sklearn-color-unfitted-level-2);\n",
       "}\n",
       "\n",
       "#sk-container-id-1 div.sk-label.fitted input.sk-toggleable__control:checked~label.sk-toggleable__label {\n",
       "  background-color: var(--sklearn-color-fitted-level-2);\n",
       "}\n",
       "\n",
       "/* Estimator-specific style */\n",
       "\n",
       "/* Colorize estimator box */\n",
       "#sk-container-id-1 div.sk-estimator input.sk-toggleable__control:checked~label.sk-toggleable__label {\n",
       "  /* unfitted */\n",
       "  background-color: var(--sklearn-color-unfitted-level-2);\n",
       "}\n",
       "\n",
       "#sk-container-id-1 div.sk-estimator.fitted input.sk-toggleable__control:checked~label.sk-toggleable__label {\n",
       "  /* fitted */\n",
       "  background-color: var(--sklearn-color-fitted-level-2);\n",
       "}\n",
       "\n",
       "#sk-container-id-1 div.sk-label label.sk-toggleable__label,\n",
       "#sk-container-id-1 div.sk-label label {\n",
       "  /* The background is the default theme color */\n",
       "  color: var(--sklearn-color-text-on-default-background);\n",
       "}\n",
       "\n",
       "/* On hover, darken the color of the background */\n",
       "#sk-container-id-1 div.sk-label:hover label.sk-toggleable__label {\n",
       "  color: var(--sklearn-color-text);\n",
       "  background-color: var(--sklearn-color-unfitted-level-2);\n",
       "}\n",
       "\n",
       "/* Label box, darken color on hover, fitted */\n",
       "#sk-container-id-1 div.sk-label.fitted:hover label.sk-toggleable__label.fitted {\n",
       "  color: var(--sklearn-color-text);\n",
       "  background-color: var(--sklearn-color-fitted-level-2);\n",
       "}\n",
       "\n",
       "/* Estimator label */\n",
       "\n",
       "#sk-container-id-1 div.sk-label label {\n",
       "  font-family: monospace;\n",
       "  font-weight: bold;\n",
       "  display: inline-block;\n",
       "  line-height: 1.2em;\n",
       "}\n",
       "\n",
       "#sk-container-id-1 div.sk-label-container {\n",
       "  text-align: center;\n",
       "}\n",
       "\n",
       "/* Estimator-specific */\n",
       "#sk-container-id-1 div.sk-estimator {\n",
       "  font-family: monospace;\n",
       "  border: 1px dotted var(--sklearn-color-border-box);\n",
       "  border-radius: 0.25em;\n",
       "  box-sizing: border-box;\n",
       "  margin-bottom: 0.5em;\n",
       "  /* unfitted */\n",
       "  background-color: var(--sklearn-color-unfitted-level-0);\n",
       "}\n",
       "\n",
       "#sk-container-id-1 div.sk-estimator.fitted {\n",
       "  /* fitted */\n",
       "  background-color: var(--sklearn-color-fitted-level-0);\n",
       "}\n",
       "\n",
       "/* on hover */\n",
       "#sk-container-id-1 div.sk-estimator:hover {\n",
       "  /* unfitted */\n",
       "  background-color: var(--sklearn-color-unfitted-level-2);\n",
       "}\n",
       "\n",
       "#sk-container-id-1 div.sk-estimator.fitted:hover {\n",
       "  /* fitted */\n",
       "  background-color: var(--sklearn-color-fitted-level-2);\n",
       "}\n",
       "\n",
       "/* Specification for estimator info (e.g. \"i\" and \"?\") */\n",
       "\n",
       "/* Common style for \"i\" and \"?\" */\n",
       "\n",
       ".sk-estimator-doc-link,\n",
       "a:link.sk-estimator-doc-link,\n",
       "a:visited.sk-estimator-doc-link {\n",
       "  float: right;\n",
       "  font-size: smaller;\n",
       "  line-height: 1em;\n",
       "  font-family: monospace;\n",
       "  background-color: var(--sklearn-color-background);\n",
       "  border-radius: 1em;\n",
       "  height: 1em;\n",
       "  width: 1em;\n",
       "  text-decoration: none !important;\n",
       "  margin-left: 0.5em;\n",
       "  text-align: center;\n",
       "  /* unfitted */\n",
       "  border: var(--sklearn-color-unfitted-level-1) 1pt solid;\n",
       "  color: var(--sklearn-color-unfitted-level-1);\n",
       "}\n",
       "\n",
       ".sk-estimator-doc-link.fitted,\n",
       "a:link.sk-estimator-doc-link.fitted,\n",
       "a:visited.sk-estimator-doc-link.fitted {\n",
       "  /* fitted */\n",
       "  border: var(--sklearn-color-fitted-level-1) 1pt solid;\n",
       "  color: var(--sklearn-color-fitted-level-1);\n",
       "}\n",
       "\n",
       "/* On hover */\n",
       "div.sk-estimator:hover .sk-estimator-doc-link:hover,\n",
       ".sk-estimator-doc-link:hover,\n",
       "div.sk-label-container:hover .sk-estimator-doc-link:hover,\n",
       ".sk-estimator-doc-link:hover {\n",
       "  /* unfitted */\n",
       "  background-color: var(--sklearn-color-unfitted-level-3);\n",
       "  color: var(--sklearn-color-background);\n",
       "  text-decoration: none;\n",
       "}\n",
       "\n",
       "div.sk-estimator.fitted:hover .sk-estimator-doc-link.fitted:hover,\n",
       ".sk-estimator-doc-link.fitted:hover,\n",
       "div.sk-label-container:hover .sk-estimator-doc-link.fitted:hover,\n",
       ".sk-estimator-doc-link.fitted:hover {\n",
       "  /* fitted */\n",
       "  background-color: var(--sklearn-color-fitted-level-3);\n",
       "  color: var(--sklearn-color-background);\n",
       "  text-decoration: none;\n",
       "}\n",
       "\n",
       "/* Span, style for the box shown on hovering the info icon */\n",
       ".sk-estimator-doc-link span {\n",
       "  display: none;\n",
       "  z-index: 9999;\n",
       "  position: relative;\n",
       "  font-weight: normal;\n",
       "  right: .2ex;\n",
       "  padding: .5ex;\n",
       "  margin: .5ex;\n",
       "  width: min-content;\n",
       "  min-width: 20ex;\n",
       "  max-width: 50ex;\n",
       "  color: var(--sklearn-color-text);\n",
       "  box-shadow: 2pt 2pt 4pt #999;\n",
       "  /* unfitted */\n",
       "  background: var(--sklearn-color-unfitted-level-0);\n",
       "  border: .5pt solid var(--sklearn-color-unfitted-level-3);\n",
       "}\n",
       "\n",
       ".sk-estimator-doc-link.fitted span {\n",
       "  /* fitted */\n",
       "  background: var(--sklearn-color-fitted-level-0);\n",
       "  border: var(--sklearn-color-fitted-level-3);\n",
       "}\n",
       "\n",
       ".sk-estimator-doc-link:hover span {\n",
       "  display: block;\n",
       "}\n",
       "\n",
       "/* \"?\"-specific style due to the `<a>` HTML tag */\n",
       "\n",
       "#sk-container-id-1 a.estimator_doc_link {\n",
       "  float: right;\n",
       "  font-size: 1rem;\n",
       "  line-height: 1em;\n",
       "  font-family: monospace;\n",
       "  background-color: var(--sklearn-color-background);\n",
       "  border-radius: 1rem;\n",
       "  height: 1rem;\n",
       "  width: 1rem;\n",
       "  text-decoration: none;\n",
       "  /* unfitted */\n",
       "  color: var(--sklearn-color-unfitted-level-1);\n",
       "  border: var(--sklearn-color-unfitted-level-1) 1pt solid;\n",
       "}\n",
       "\n",
       "#sk-container-id-1 a.estimator_doc_link.fitted {\n",
       "  /* fitted */\n",
       "  border: var(--sklearn-color-fitted-level-1) 1pt solid;\n",
       "  color: var(--sklearn-color-fitted-level-1);\n",
       "}\n",
       "\n",
       "/* On hover */\n",
       "#sk-container-id-1 a.estimator_doc_link:hover {\n",
       "  /* unfitted */\n",
       "  background-color: var(--sklearn-color-unfitted-level-3);\n",
       "  color: var(--sklearn-color-background);\n",
       "  text-decoration: none;\n",
       "}\n",
       "\n",
       "#sk-container-id-1 a.estimator_doc_link.fitted:hover {\n",
       "  /* fitted */\n",
       "  background-color: var(--sklearn-color-fitted-level-3);\n",
       "}\n",
       "</style><div id=\"sk-container-id-1\" class=\"sk-top-container\"><div class=\"sk-text-repr-fallback\"><pre>RandomForestRegressor()</pre><b>In a Jupyter environment, please rerun this cell to show the HTML representation or trust the notebook. <br />On GitHub, the HTML representation is unable to render, please try loading this page with nbviewer.org.</b></div><div class=\"sk-container\" hidden><div class=\"sk-item\"><div class=\"sk-estimator fitted sk-toggleable\"><input class=\"sk-toggleable__control sk-hidden--visually\" id=\"sk-estimator-id-1\" type=\"checkbox\" checked><label for=\"sk-estimator-id-1\" class=\"sk-toggleable__label fitted sk-toggleable__label-arrow\"><div><div>RandomForestRegressor</div></div><div><a class=\"sk-estimator-doc-link fitted\" rel=\"noreferrer\" target=\"_blank\" href=\"https://scikit-learn.org/1.6/modules/generated/sklearn.ensemble.RandomForestRegressor.html\">?<span>Documentation for RandomForestRegressor</span></a><span class=\"sk-estimator-doc-link fitted\">i<span>Fitted</span></span></div></label><div class=\"sk-toggleable__content fitted\"><pre>RandomForestRegressor()</pre></div> </div></div></div></div>"
      ],
      "text/plain": [
       "RandomForestRegressor()"
      ]
     },
     "execution_count": 19,
     "metadata": {},
     "output_type": "execute_result"
    }
   ],
   "source": [
    "regr.fit(X_train, y_train)"
   ]
  },
  {
   "cell_type": "code",
   "execution_count": 20,
   "id": "f7eff20f-c5e3-4116-8895-2a52de17fc4a",
   "metadata": {},
   "outputs": [],
   "source": [
    "train_pred = regr.predict(X_train)"
   ]
  },
  {
   "cell_type": "code",
   "execution_count": 21,
   "id": "8736e39b",
   "metadata": {},
   "outputs": [],
   "source": [
    "y_pred = regr.predict(X_val)"
   ]
  },
  {
   "cell_type": "code",
   "execution_count": 22,
   "id": "42957736-415c-4e91-8bd8-640541d3c1ba",
   "metadata": {},
   "outputs": [
    {
     "data": {
      "text/plain": [
       "array([89.836215, 71.814403, 96.054845, ..., 67.451919, 74.026599,\n",
       "       89.676292], shape=(4338,))"
      ]
     },
     "execution_count": 22,
     "metadata": {},
     "output_type": "execute_result"
    }
   ],
   "source": [
    "y_pred"
   ]
  },
  {
   "cell_type": "markdown",
   "id": "f4443b15",
   "metadata": {},
   "source": [
    "### Check the Prediction Results"
   ]
  },
  {
   "cell_type": "code",
   "execution_count": 23,
   "id": "f11706f0",
   "metadata": {},
   "outputs": [
    {
     "data": {
      "text/plain": [
       "1.6117188916551404"
      ]
     },
     "execution_count": 23,
     "metadata": {},
     "output_type": "execute_result"
    }
   ],
   "source": [
    "metrics.mean_absolute_error(y_val, y_pred)"
   ]
  },
  {
   "cell_type": "code",
   "execution_count": 24,
   "id": "b225f0c1",
   "metadata": {},
   "outputs": [],
   "source": [
    "mse = metrics.mean_squared_error(y_val, y_pred)\n",
    "rmse = mse**0.5 "
   ]
  },
  {
   "cell_type": "code",
   "execution_count": 25,
   "id": "7387a999",
   "metadata": {},
   "outputs": [
    {
     "data": {
      "text/plain": [
       "2.853462935520159"
      ]
     },
     "execution_count": 25,
     "metadata": {},
     "output_type": "execute_result"
    }
   ],
   "source": [
    "rmse"
   ]
  },
  {
   "cell_type": "code",
   "execution_count": 26,
   "id": "8cbe39f2-349e-4a65-819d-d4c2f751c0b7",
   "metadata": {},
   "outputs": [
    {
     "data": {
      "text/plain": [
       "0.9603986729568894"
      ]
     },
     "execution_count": 26,
     "metadata": {},
     "output_type": "execute_result"
    }
   ],
   "source": [
    "val_r2 =metrics.r2_score(y_val, y_pred)\n",
    "val_r2"
   ]
  },
  {
   "cell_type": "code",
   "execution_count": 27,
   "id": "7e4697b3-85a9-4705-bc2d-d41a1da3edd5",
   "metadata": {},
   "outputs": [
    {
     "data": {
      "text/plain": [
       "0.9938961484758699"
      ]
     },
     "execution_count": 27,
     "metadata": {},
     "output_type": "execute_result"
    }
   ],
   "source": [
    "train_r2 =metrics.r2_score(y_train, train_pred)\n",
    "train_r2"
   ]
  },
  {
   "cell_type": "markdown",
   "id": "328fca04",
   "metadata": {},
   "source": [
    "Simple metrics like above are a nice way to see how a model has performed, but you should always check the actual data. \n",
    "\n",
    "In the plot below, we are comparing the real data against the predicted data."
   ]
  },
  {
   "cell_type": "code",
   "execution_count": 29,
   "id": "e1b9f3d1-af24-4a40-8ab7-71d5b9c9d969",
   "metadata": {},
   "outputs": [
    {
     "data": {
      "text/plain": [
       "['cmodel.pkl']"
      ]
     },
     "execution_count": 29,
     "metadata": {},
     "output_type": "execute_result"
    }
   ],
   "source": [
    "\n",
    "# save\n",
    "joblib.dump(regr, \"model.pkl\") "
   ]
  },
  {
   "cell_type": "code",
   "execution_count": null,
   "id": "0d6e3fd9-1666-489e-9cdb-8c873e6fd438",
   "metadata": {},
   "outputs": [],
   "source": []
  }
 ],
 "metadata": {
  "kernelspec": {
   "display_name": "Python 3 (ipykernel)",
   "language": "python",
   "name": "python3"
  },
  "language_info": {
   "codemirror_mode": {
    "name": "ipython",
    "version": 3
   },
   "file_extension": ".py",
   "mimetype": "text/x-python",
   "name": "python",
   "nbconvert_exporter": "python",
   "pygments_lexer": "ipython3",
   "version": "3.12.9"
  }
 },
 "nbformat": 4,
 "nbformat_minor": 5
}
